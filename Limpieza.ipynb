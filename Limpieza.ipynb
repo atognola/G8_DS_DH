{
 "cells": [
  {
   "cell_type": "markdown",
   "metadata": {},
   "source": [
    "## Limpieza del set de datos de Properatti"
   ]
  },
  {
   "cell_type": "code",
   "execution_count": 187,
   "metadata": {},
   "outputs": [],
   "source": [
    "import pandas as pd\n",
    "import numpy as np\n",
    "import re"
   ]
  },
  {
   "cell_type": "markdown",
   "metadata": {},
   "source": [
    "Vamos a tomar la data"
   ]
  },
  {
   "cell_type": "code",
   "execution_count": 443,
   "metadata": {},
   "outputs": [],
   "source": [
    "df = pd.read_csv(\"properatti.csv\")"
   ]
  },
  {
   "cell_type": "markdown",
   "metadata": {},
   "source": [
    "Vamos a samplear la data, para empezar la exploración y entender los datos:"
   ]
  },
  {
   "cell_type": "code",
   "execution_count": 445,
   "metadata": {},
   "outputs": [
    {
     "data": {
      "text/html": [
       "<div>\n",
       "<style scoped>\n",
       "    .dataframe tbody tr th:only-of-type {\n",
       "        vertical-align: middle;\n",
       "    }\n",
       "\n",
       "    .dataframe tbody tr th {\n",
       "        vertical-align: top;\n",
       "    }\n",
       "\n",
       "    .dataframe thead th {\n",
       "        text-align: right;\n",
       "    }\n",
       "</style>\n",
       "<table border=\"1\" class=\"dataframe\">\n",
       "  <thead>\n",
       "    <tr style=\"text-align: right;\">\n",
       "      <th></th>\n",
       "      <th>Unnamed: 0</th>\n",
       "      <th>operation</th>\n",
       "      <th>property_type</th>\n",
       "      <th>place_name</th>\n",
       "      <th>place_with_parent_names</th>\n",
       "      <th>country_name</th>\n",
       "      <th>state_name</th>\n",
       "      <th>geonames_id</th>\n",
       "      <th>lat-lon</th>\n",
       "      <th>lat</th>\n",
       "      <th>...</th>\n",
       "      <th>surface_covered_in_m2</th>\n",
       "      <th>price_usd_per_m2</th>\n",
       "      <th>price_per_m2</th>\n",
       "      <th>floor</th>\n",
       "      <th>rooms</th>\n",
       "      <th>expenses</th>\n",
       "      <th>properati_url</th>\n",
       "      <th>description</th>\n",
       "      <th>title</th>\n",
       "      <th>image_thumbnail</th>\n",
       "    </tr>\n",
       "  </thead>\n",
       "  <tbody>\n",
       "    <tr>\n",
       "      <th>0</th>\n",
       "      <td>0</td>\n",
       "      <td>sell</td>\n",
       "      <td>PH</td>\n",
       "      <td>Mataderos</td>\n",
       "      <td>|Argentina|Capital Federal|Mataderos|</td>\n",
       "      <td>Argentina</td>\n",
       "      <td>Capital Federal</td>\n",
       "      <td>3430787.0</td>\n",
       "      <td>-34.6618237,-58.5088387</td>\n",
       "      <td>-34.661824</td>\n",
       "      <td>...</td>\n",
       "      <td>40.0</td>\n",
       "      <td>1127.272727</td>\n",
       "      <td>1550.000000</td>\n",
       "      <td>NaN</td>\n",
       "      <td>NaN</td>\n",
       "      <td>NaN</td>\n",
       "      <td>http://www.properati.com.ar/15bo8_venta_ph_mat...</td>\n",
       "      <td>2 AMBIENTES TIPO CASA PLANTA BAJA POR PASILLO,...</td>\n",
       "      <td>2 AMB TIPO CASA SIN EXPENSAS EN PB</td>\n",
       "      <td>https://thumbs4.properati.com/8/BluUYiHJLhgIIK...</td>\n",
       "    </tr>\n",
       "    <tr>\n",
       "      <th>1</th>\n",
       "      <td>1</td>\n",
       "      <td>sell</td>\n",
       "      <td>apartment</td>\n",
       "      <td>La Plata</td>\n",
       "      <td>|Argentina|Bs.As. G.B.A. Zona Sur|La Plata|</td>\n",
       "      <td>Argentina</td>\n",
       "      <td>Bs.As. G.B.A. Zona Sur</td>\n",
       "      <td>3432039.0</td>\n",
       "      <td>-34.9038831,-57.9643295</td>\n",
       "      <td>-34.903883</td>\n",
       "      <td>...</td>\n",
       "      <td>NaN</td>\n",
       "      <td>NaN</td>\n",
       "      <td>NaN</td>\n",
       "      <td>NaN</td>\n",
       "      <td>NaN</td>\n",
       "      <td>NaN</td>\n",
       "      <td>http://www.properati.com.ar/15bob_venta_depart...</td>\n",
       "      <td>Venta de departamento en décimo piso al frente...</td>\n",
       "      <td>VENTA Depto 2 dorm. a estrenar 7 e/ 36 y 37   ...</td>\n",
       "      <td>https://thumbs4.properati.com/7/ikpVBu2ztHA7jv...</td>\n",
       "    </tr>\n",
       "    <tr>\n",
       "      <th>2</th>\n",
       "      <td>2</td>\n",
       "      <td>sell</td>\n",
       "      <td>apartment</td>\n",
       "      <td>Mataderos</td>\n",
       "      <td>|Argentina|Capital Federal|Mataderos|</td>\n",
       "      <td>Argentina</td>\n",
       "      <td>Capital Federal</td>\n",
       "      <td>3430787.0</td>\n",
       "      <td>-34.6522615,-58.5229825</td>\n",
       "      <td>-34.652262</td>\n",
       "      <td>...</td>\n",
       "      <td>55.0</td>\n",
       "      <td>1309.090909</td>\n",
       "      <td>1309.090909</td>\n",
       "      <td>NaN</td>\n",
       "      <td>NaN</td>\n",
       "      <td>NaN</td>\n",
       "      <td>http://www.properati.com.ar/15bod_venta_depart...</td>\n",
       "      <td>2 AMBIENTES 3ER PISO LATERAL LIVING COMEDOR AM...</td>\n",
       "      <td>2 AMB 3ER PISO CON ASCENSOR APTO CREDITO</td>\n",
       "      <td>https://thumbs4.properati.com/5/SXKr34F_IwG3W_...</td>\n",
       "    </tr>\n",
       "    <tr>\n",
       "      <th>3</th>\n",
       "      <td>3</td>\n",
       "      <td>sell</td>\n",
       "      <td>PH</td>\n",
       "      <td>Liniers</td>\n",
       "      <td>|Argentina|Capital Federal|Liniers|</td>\n",
       "      <td>Argentina</td>\n",
       "      <td>Capital Federal</td>\n",
       "      <td>3431333.0</td>\n",
       "      <td>-34.6477969,-58.5164244</td>\n",
       "      <td>-34.647797</td>\n",
       "      <td>...</td>\n",
       "      <td>NaN</td>\n",
       "      <td>NaN</td>\n",
       "      <td>NaN</td>\n",
       "      <td>NaN</td>\n",
       "      <td>NaN</td>\n",
       "      <td>NaN</td>\n",
       "      <td>http://www.properati.com.ar/15boh_venta_ph_lin...</td>\n",
       "      <td>PH 3 ambientes con patio. Hay 3 deptos en lote...</td>\n",
       "      <td>PH 3 amb. cfte. reciclado</td>\n",
       "      <td>https://thumbs4.properati.com/3/DgIfX-85Mog5SP...</td>\n",
       "    </tr>\n",
       "    <tr>\n",
       "      <th>4</th>\n",
       "      <td>4</td>\n",
       "      <td>sell</td>\n",
       "      <td>apartment</td>\n",
       "      <td>Centro</td>\n",
       "      <td>|Argentina|Buenos Aires Costa Atlántica|Mar de...</td>\n",
       "      <td>Argentina</td>\n",
       "      <td>Buenos Aires Costa Atlántica</td>\n",
       "      <td>3435548.0</td>\n",
       "      <td>-38.0026256,-57.5494468</td>\n",
       "      <td>-38.002626</td>\n",
       "      <td>...</td>\n",
       "      <td>35.0</td>\n",
       "      <td>1828.571429</td>\n",
       "      <td>1828.571429</td>\n",
       "      <td>NaN</td>\n",
       "      <td>NaN</td>\n",
       "      <td>NaN</td>\n",
       "      <td>http://www.properati.com.ar/15bok_venta_depart...</td>\n",
       "      <td>DEPARTAMENTO CON FANTÁSTICA ILUMINACIÓN NATURA...</td>\n",
       "      <td>DEPTO 2 AMB AL CONTRAFRENTE ZONA CENTRO/PLAZA ...</td>\n",
       "      <td>https://thumbs4.properati.com/5/xrRqlNcSI_vs-f...</td>\n",
       "    </tr>\n",
       "    <tr>\n",
       "      <th>5</th>\n",
       "      <td>5</td>\n",
       "      <td>sell</td>\n",
       "      <td>house</td>\n",
       "      <td>Gualeguaychú</td>\n",
       "      <td>|Argentina|Entre Ríos|Gualeguaychú|</td>\n",
       "      <td>Argentina</td>\n",
       "      <td>Entre Ríos</td>\n",
       "      <td>3433657.0</td>\n",
       "      <td>-33.0140714,-58.519828</td>\n",
       "      <td>-33.014071</td>\n",
       "      <td>...</td>\n",
       "      <td>NaN</td>\n",
       "      <td>NaN</td>\n",
       "      <td>NaN</td>\n",
       "      <td>NaN</td>\n",
       "      <td>NaN</td>\n",
       "      <td>NaN</td>\n",
       "      <td>http://www.properati.com.ar/15bop_venta_depart...</td>\n",
       "      <td>Casa en el perímetro del barrio 338, ubicada e...</td>\n",
       "      <td>Casa Barrio 338. Sobre calle 3 de caballería, ...</td>\n",
       "      <td>https://thumbs4.properati.com/6/q-w68gvaUEQVXI...</td>\n",
       "    </tr>\n",
       "    <tr>\n",
       "      <th>6</th>\n",
       "      <td>6</td>\n",
       "      <td>sell</td>\n",
       "      <td>PH</td>\n",
       "      <td>Munro</td>\n",
       "      <td>|Argentina|Bs.As. G.B.A. Zona Norte|Vicente Ló...</td>\n",
       "      <td>Argentina</td>\n",
       "      <td>Bs.As. G.B.A. Zona Norte</td>\n",
       "      <td>3430511.0</td>\n",
       "      <td>-34.5329567,-58.5217825</td>\n",
       "      <td>-34.532957</td>\n",
       "      <td>...</td>\n",
       "      <td>78.0</td>\n",
       "      <td>1226.415094</td>\n",
       "      <td>1666.666667</td>\n",
       "      <td>NaN</td>\n",
       "      <td>NaN</td>\n",
       "      <td>NaN</td>\n",
       "      <td>http://www.properati.com.ar/15bor_venta_ph_mun...</td>\n",
       "      <td>MUY BUEN PH AL FRENTE CON ENTRADA INDEPENDIENT...</td>\n",
       "      <td>MUY BUEN PH AL FRENTE DOS DORMITORIOS , PATIO,...</td>\n",
       "      <td>https://thumbs4.properati.com/5/6GOXsHCyDu1aGx...</td>\n",
       "    </tr>\n",
       "    <tr>\n",
       "      <th>7</th>\n",
       "      <td>7</td>\n",
       "      <td>sell</td>\n",
       "      <td>apartment</td>\n",
       "      <td>Belgrano</td>\n",
       "      <td>|Argentina|Capital Federal|Belgrano|</td>\n",
       "      <td>Argentina</td>\n",
       "      <td>Capital Federal</td>\n",
       "      <td>3436077.0</td>\n",
       "      <td>-34.5598729,-58.443362</td>\n",
       "      <td>-34.559873</td>\n",
       "      <td>...</td>\n",
       "      <td>40.0</td>\n",
       "      <td>3066.666667</td>\n",
       "      <td>3450.000000</td>\n",
       "      <td>NaN</td>\n",
       "      <td>NaN</td>\n",
       "      <td>NaN</td>\n",
       "      <td>http://www.properati.com.ar/15bot_venta_depart...</td>\n",
       "      <td>EXCELENTE MONOAMBIENTE A ESTRENAR AMPLIO SUPER...</td>\n",
       "      <td>JOSE HERNANDEZ 1400 MONOAMBIENTE  ESTRENAR CAT...</td>\n",
       "      <td>https://thumbs4.properati.com/1/IHxARynlr8sPEW...</td>\n",
       "    </tr>\n",
       "    <tr>\n",
       "      <th>8</th>\n",
       "      <td>8</td>\n",
       "      <td>sell</td>\n",
       "      <td>apartment</td>\n",
       "      <td>Belgrano</td>\n",
       "      <td>|Argentina|Capital Federal|Belgrano|</td>\n",
       "      <td>Argentina</td>\n",
       "      <td>Capital Federal</td>\n",
       "      <td>3436077.0</td>\n",
       "      <td>-34.5598729,-58.443362</td>\n",
       "      <td>-34.559873</td>\n",
       "      <td>...</td>\n",
       "      <td>60.0</td>\n",
       "      <td>3000.000000</td>\n",
       "      <td>3250.000000</td>\n",
       "      <td>NaN</td>\n",
       "      <td>NaN</td>\n",
       "      <td>NaN</td>\n",
       "      <td>http://www.properati.com.ar/15bou_venta_depart...</td>\n",
       "      <td>EXCELENTE DOS AMBIENTES  ESTRENAR AMPLIO SUPER...</td>\n",
       "      <td>JOSE HERNANDEZ   1400 DOS AMBIENTES ESTRENAR ,...</td>\n",
       "      <td>https://thumbs4.properati.com/2/J3zOjgaFHrkvnv...</td>\n",
       "    </tr>\n",
       "    <tr>\n",
       "      <th>9</th>\n",
       "      <td>9</td>\n",
       "      <td>sell</td>\n",
       "      <td>house</td>\n",
       "      <td>Rosario</td>\n",
       "      <td>|Argentina|Santa Fe|Rosario|</td>\n",
       "      <td>Argentina</td>\n",
       "      <td>Santa Fe</td>\n",
       "      <td>3838574.0</td>\n",
       "      <td>-32.942031,-60.7259192</td>\n",
       "      <td>-32.942031</td>\n",
       "      <td>...</td>\n",
       "      <td>NaN</td>\n",
       "      <td>NaN</td>\n",
       "      <td>NaN</td>\n",
       "      <td>NaN</td>\n",
       "      <td>NaN</td>\n",
       "      <td>NaN</td>\n",
       "      <td>http://www.properati.com.ar/15box_venta_casa_r...</td>\n",
       "      <td>MEDNOZA AL 7600A UNA CUADRA DE CALLE MENDOZAWH...</td>\n",
       "      <td>WHITE 7637 - 2 DORMITORIOS CON PATIO</td>\n",
       "      <td>https://thumbs4.properati.com/8/RCf1YEWdF4rv98...</td>\n",
       "    </tr>\n",
       "  </tbody>\n",
       "</table>\n",
       "<p>10 rows × 26 columns</p>\n",
       "</div>"
      ],
      "text/plain": [
       "   Unnamed: 0 operation property_type    place_name  \\\n",
       "0           0      sell            PH     Mataderos   \n",
       "1           1      sell     apartment      La Plata   \n",
       "2           2      sell     apartment     Mataderos   \n",
       "3           3      sell            PH       Liniers   \n",
       "4           4      sell     apartment        Centro   \n",
       "5           5      sell         house  Gualeguaychú   \n",
       "6           6      sell            PH         Munro   \n",
       "7           7      sell     apartment      Belgrano   \n",
       "8           8      sell     apartment      Belgrano   \n",
       "9           9      sell         house       Rosario   \n",
       "\n",
       "                             place_with_parent_names country_name  \\\n",
       "0              |Argentina|Capital Federal|Mataderos|    Argentina   \n",
       "1        |Argentina|Bs.As. G.B.A. Zona Sur|La Plata|    Argentina   \n",
       "2              |Argentina|Capital Federal|Mataderos|    Argentina   \n",
       "3                |Argentina|Capital Federal|Liniers|    Argentina   \n",
       "4  |Argentina|Buenos Aires Costa Atlántica|Mar de...    Argentina   \n",
       "5                |Argentina|Entre Ríos|Gualeguaychú|    Argentina   \n",
       "6  |Argentina|Bs.As. G.B.A. Zona Norte|Vicente Ló...    Argentina   \n",
       "7               |Argentina|Capital Federal|Belgrano|    Argentina   \n",
       "8               |Argentina|Capital Federal|Belgrano|    Argentina   \n",
       "9                       |Argentina|Santa Fe|Rosario|    Argentina   \n",
       "\n",
       "                     state_name  geonames_id                  lat-lon  \\\n",
       "0               Capital Federal    3430787.0  -34.6618237,-58.5088387   \n",
       "1        Bs.As. G.B.A. Zona Sur    3432039.0  -34.9038831,-57.9643295   \n",
       "2               Capital Federal    3430787.0  -34.6522615,-58.5229825   \n",
       "3               Capital Federal    3431333.0  -34.6477969,-58.5164244   \n",
       "4  Buenos Aires Costa Atlántica    3435548.0  -38.0026256,-57.5494468   \n",
       "5                    Entre Ríos    3433657.0   -33.0140714,-58.519828   \n",
       "6      Bs.As. G.B.A. Zona Norte    3430511.0  -34.5329567,-58.5217825   \n",
       "7               Capital Federal    3436077.0   -34.5598729,-58.443362   \n",
       "8               Capital Federal    3436077.0   -34.5598729,-58.443362   \n",
       "9                      Santa Fe    3838574.0   -32.942031,-60.7259192   \n",
       "\n",
       "         lat                        ...                          \\\n",
       "0 -34.661824                        ...                           \n",
       "1 -34.903883                        ...                           \n",
       "2 -34.652262                        ...                           \n",
       "3 -34.647797                        ...                           \n",
       "4 -38.002626                        ...                           \n",
       "5 -33.014071                        ...                           \n",
       "6 -34.532957                        ...                           \n",
       "7 -34.559873                        ...                           \n",
       "8 -34.559873                        ...                           \n",
       "9 -32.942031                        ...                           \n",
       "\n",
       "   surface_covered_in_m2  price_usd_per_m2 price_per_m2  floor  rooms  \\\n",
       "0                   40.0       1127.272727  1550.000000    NaN    NaN   \n",
       "1                    NaN               NaN          NaN    NaN    NaN   \n",
       "2                   55.0       1309.090909  1309.090909    NaN    NaN   \n",
       "3                    NaN               NaN          NaN    NaN    NaN   \n",
       "4                   35.0       1828.571429  1828.571429    NaN    NaN   \n",
       "5                    NaN               NaN          NaN    NaN    NaN   \n",
       "6                   78.0       1226.415094  1666.666667    NaN    NaN   \n",
       "7                   40.0       3066.666667  3450.000000    NaN    NaN   \n",
       "8                   60.0       3000.000000  3250.000000    NaN    NaN   \n",
       "9                    NaN               NaN          NaN    NaN    NaN   \n",
       "\n",
       "   expenses                                      properati_url  \\\n",
       "0       NaN  http://www.properati.com.ar/15bo8_venta_ph_mat...   \n",
       "1       NaN  http://www.properati.com.ar/15bob_venta_depart...   \n",
       "2       NaN  http://www.properati.com.ar/15bod_venta_depart...   \n",
       "3       NaN  http://www.properati.com.ar/15boh_venta_ph_lin...   \n",
       "4       NaN  http://www.properati.com.ar/15bok_venta_depart...   \n",
       "5       NaN  http://www.properati.com.ar/15bop_venta_depart...   \n",
       "6       NaN  http://www.properati.com.ar/15bor_venta_ph_mun...   \n",
       "7       NaN  http://www.properati.com.ar/15bot_venta_depart...   \n",
       "8       NaN  http://www.properati.com.ar/15bou_venta_depart...   \n",
       "9       NaN  http://www.properati.com.ar/15box_venta_casa_r...   \n",
       "\n",
       "                                         description  \\\n",
       "0  2 AMBIENTES TIPO CASA PLANTA BAJA POR PASILLO,...   \n",
       "1  Venta de departamento en décimo piso al frente...   \n",
       "2  2 AMBIENTES 3ER PISO LATERAL LIVING COMEDOR AM...   \n",
       "3  PH 3 ambientes con patio. Hay 3 deptos en lote...   \n",
       "4  DEPARTAMENTO CON FANTÁSTICA ILUMINACIÓN NATURA...   \n",
       "5  Casa en el perímetro del barrio 338, ubicada e...   \n",
       "6  MUY BUEN PH AL FRENTE CON ENTRADA INDEPENDIENT...   \n",
       "7  EXCELENTE MONOAMBIENTE A ESTRENAR AMPLIO SUPER...   \n",
       "8  EXCELENTE DOS AMBIENTES  ESTRENAR AMPLIO SUPER...   \n",
       "9  MEDNOZA AL 7600A UNA CUADRA DE CALLE MENDOZAWH...   \n",
       "\n",
       "                                               title  \\\n",
       "0                 2 AMB TIPO CASA SIN EXPENSAS EN PB   \n",
       "1  VENTA Depto 2 dorm. a estrenar 7 e/ 36 y 37   ...   \n",
       "2           2 AMB 3ER PISO CON ASCENSOR APTO CREDITO   \n",
       "3                       PH 3 amb. cfte. reciclado      \n",
       "4  DEPTO 2 AMB AL CONTRAFRENTE ZONA CENTRO/PLAZA ...   \n",
       "5  Casa Barrio 338. Sobre calle 3 de caballería, ...   \n",
       "6  MUY BUEN PH AL FRENTE DOS DORMITORIOS , PATIO,...   \n",
       "7  JOSE HERNANDEZ 1400 MONOAMBIENTE  ESTRENAR CAT...   \n",
       "8  JOSE HERNANDEZ   1400 DOS AMBIENTES ESTRENAR ,...   \n",
       "9         WHITE 7637 - 2 DORMITORIOS CON PATIO         \n",
       "\n",
       "                                     image_thumbnail  \n",
       "0  https://thumbs4.properati.com/8/BluUYiHJLhgIIK...  \n",
       "1  https://thumbs4.properati.com/7/ikpVBu2ztHA7jv...  \n",
       "2  https://thumbs4.properati.com/5/SXKr34F_IwG3W_...  \n",
       "3  https://thumbs4.properati.com/3/DgIfX-85Mog5SP...  \n",
       "4  https://thumbs4.properati.com/5/xrRqlNcSI_vs-f...  \n",
       "5  https://thumbs4.properati.com/6/q-w68gvaUEQVXI...  \n",
       "6  https://thumbs4.properati.com/5/6GOXsHCyDu1aGx...  \n",
       "7  https://thumbs4.properati.com/1/IHxARynlr8sPEW...  \n",
       "8  https://thumbs4.properati.com/2/J3zOjgaFHrkvnv...  \n",
       "9  https://thumbs4.properati.com/8/RCf1YEWdF4rv98...  \n",
       "\n",
       "[10 rows x 26 columns]"
      ]
     },
     "execution_count": 445,
     "metadata": {},
     "output_type": "execute_result"
    }
   ],
   "source": [
    "df.head(10)"
   ]
  },
  {
   "cell_type": "markdown",
   "metadata": {},
   "source": [
    "Vamos a entender los campos de 'operation':"
   ]
  },
  {
   "cell_type": "code",
   "execution_count": 202,
   "metadata": {},
   "outputs": [
    {
     "data": {
      "text/plain": [
       "{'sell'}"
      ]
     },
     "execution_count": 202,
     "metadata": {},
     "output_type": "execute_result"
    }
   ],
   "source": [
    "set(df['operation'])"
   ]
  },
  {
   "cell_type": "markdown",
   "metadata": {},
   "source": [
    "Vamos a entender los campos de 'property_type':"
   ]
  },
  {
   "cell_type": "code",
   "execution_count": 203,
   "metadata": {},
   "outputs": [
    {
     "data": {
      "text/plain": [
       "{'PH', 'apartment', 'house', 'store'}"
      ]
     },
     "execution_count": 203,
     "metadata": {},
     "output_type": "execute_result"
    }
   ],
   "source": [
    "set(df['property_type'])"
   ]
  },
  {
   "cell_type": "markdown",
   "metadata": {},
   "source": [
    "Vamos a entender los campos de 'place_name':"
   ]
  },
  {
   "cell_type": "code",
   "execution_count": 204,
   "metadata": {},
   "outputs": [
    {
     "data": {
      "text/plain": [
       "['Monserrat',\n",
       " 'Villa Luro',\n",
       " 'Punta Indio',\n",
       " 'Esteban Echeverr\\xc3\\xada',\n",
       " 'Caballito',\n",
       " 'Granadero Baigorria',\n",
       " 'Luj\\xc3\\xa1n',\n",
       " 'Adrogu\\xc3\\xa9',\n",
       " 'Lan\\xc3\\xbas',\n",
       " 'Palermo Hollywood',\n",
       " 'Villa Urquiza',\n",
       " 'Lomas de Zamora',\n",
       " 'Capital Federal',\n",
       " 'Temperley',\n",
       " 'Nordelta',\n",
       " 'Constituci\\xc3\\xb3n',\n",
       " 'Playa Grande',\n",
       " 'Villa Devoto',\n",
       " 'Nu\\xc3\\xb1ez',\n",
       " 'Longchamps']"
      ]
     },
     "execution_count": 204,
     "metadata": {},
     "output_type": "execute_result"
    }
   ],
   "source": [
    "random.sample(set(df['place_name']),20)"
   ]
  },
  {
   "cell_type": "markdown",
   "metadata": {},
   "source": [
    "Vamos a ver la info del Data Frame"
   ]
  },
  {
   "cell_type": "code",
   "execution_count": 446,
   "metadata": {
    "scrolled": true
   },
   "outputs": [
    {
     "name": "stdout",
     "output_type": "stream",
     "text": [
      "<class 'pandas.core.frame.DataFrame'>\n",
      "RangeIndex: 121220 entries, 0 to 121219\n",
      "Data columns (total 26 columns):\n",
      "Unnamed: 0                    121220 non-null int64\n",
      "operation                     121220 non-null object\n",
      "property_type                 121220 non-null object\n",
      "place_name                    121197 non-null object\n",
      "place_with_parent_names       121220 non-null object\n",
      "country_name                  121220 non-null object\n",
      "state_name                    121220 non-null object\n",
      "geonames_id                   102503 non-null float64\n",
      "lat-lon                       69670 non-null object\n",
      "lat                           69670 non-null float64\n",
      "lon                           69670 non-null float64\n",
      "price                         100810 non-null float64\n",
      "currency                      100809 non-null object\n",
      "price_aprox_local_currency    100810 non-null float64\n",
      "price_aprox_usd               100810 non-null float64\n",
      "surface_total_in_m2           81892 non-null float64\n",
      "surface_covered_in_m2         101313 non-null float64\n",
      "price_usd_per_m2              68617 non-null float64\n",
      "price_per_m2                  87658 non-null float64\n",
      "floor                         7899 non-null float64\n",
      "rooms                         47390 non-null float64\n",
      "expenses                      14262 non-null float64\n",
      "properati_url                 121220 non-null object\n",
      "description                   121218 non-null object\n",
      "title                         121220 non-null object\n",
      "image_thumbnail               118108 non-null object\n",
      "dtypes: float64(13), int64(1), object(12)\n",
      "memory usage: 24.0+ MB\n"
     ]
    }
   ],
   "source": [
    "df.info()"
   ]
  },
  {
   "cell_type": "markdown",
   "metadata": {},
   "source": [
    "El campo rooms tiene 47390 entradas válidas. Vamos a ver si podemos completar"
   ]
  },
  {
   "cell_type": "markdown",
   "metadata": {},
   "source": [
    "# Vamos a completar la información faltante en base a un diccionario"
   ]
  },
  {
   "cell_type": "markdown",
   "metadata": {},
   "source": [
    "### Creo el diccionario del parser\n",
    "Cada nueva fila debe tener formato: ['regEx para buscar', 'regEx para extraer números contenidos dentro del resultado de la regEx de búsqueda', 'columna donde buscar', 'columna donde guardar el dato faltante', 'tipo del dato a extraer']"
   ]
  },
  {
   "cell_type": "code",
   "execution_count": 452,
   "metadata": {},
   "outputs": [],
   "source": [
    "col_names =  ['lookup_regex', 'extract_regex', 'column_to_lookup','column_to_complete','value_type']\n",
    "diccionario  = pd.DataFrame(columns = col_names)\n",
    "#Nueva fila a agregar al diccionario. Va a tomar números entre 0 y 99 seguidos de entre 1 y 3 espacios, más amb o AMB o AMB.\n",
    "#Va a revisar la columna 'title' y va a escribir los valores que encuentre en la columna 'rooms'\n",
    "diccionario.loc[len(diccionario)] = ['\\d{1,2} {1,3}amb|\\d{1,2} {1,3}AMB*|\\d{1,2} {1,3}Amb*', '\\d{1,2}', 'title', 'rooms', 'float']\n",
    "#Nueva fila a agregar al diccionario. Va a tomar números entre 0 y 99 seguidos de entre 1 y 3 espacios, más amb o AMB o AMB.\n",
    "#Va a revisar la columna 'description' y va a escribir los valores que encuentre en la columna 'rooms'\n",
    "diccionario.loc[len(diccionario)] = ['\\d{1,2} {1,3}amb|\\d{1,2} {1,3}AMB*|\\d{1,2} {1,3}Amb*', '\\d{1,2}', 'description', 'rooms', 'float'] #Nueva fila a agregar\n",
    "#diccionario.loc[len(diccionario)] = ['/d abc', '/d', 'description', 'metros2', 'float'] #Nueva fila a agregar"
   ]
  },
  {
   "cell_type": "markdown",
   "metadata": {},
   "source": [
    "Veo el diccionario:"
   ]
  },
  {
   "cell_type": "code",
   "execution_count": 456,
   "metadata": {},
   "outputs": [
    {
     "data": {
      "text/html": [
       "<div>\n",
       "<style scoped>\n",
       "    .dataframe tbody tr th:only-of-type {\n",
       "        vertical-align: middle;\n",
       "    }\n",
       "\n",
       "    .dataframe tbody tr th {\n",
       "        vertical-align: top;\n",
       "    }\n",
       "\n",
       "    .dataframe thead th {\n",
       "        text-align: right;\n",
       "    }\n",
       "</style>\n",
       "<table border=\"1\" class=\"dataframe\">\n",
       "  <thead>\n",
       "    <tr style=\"text-align: right;\">\n",
       "      <th></th>\n",
       "      <th>lookup_regex</th>\n",
       "      <th>extract_regex</th>\n",
       "      <th>column_to_lookup</th>\n",
       "      <th>column_to_complete</th>\n",
       "      <th>value_type</th>\n",
       "    </tr>\n",
       "  </thead>\n",
       "  <tbody>\n",
       "    <tr>\n",
       "      <th>0</th>\n",
       "      <td>\\d{1,2} {1,3}amb|\\d{1,2} {1,3}AMB*|\\d{1,2} {1,...</td>\n",
       "      <td>\\d{1,2}</td>\n",
       "      <td>title</td>\n",
       "      <td>rooms</td>\n",
       "      <td>float</td>\n",
       "    </tr>\n",
       "    <tr>\n",
       "      <th>1</th>\n",
       "      <td>\\d{1,2} {1,3}amb|\\d{1,2} {1,3}AMB*|\\d{1,2} {1,...</td>\n",
       "      <td>\\d{1,2}</td>\n",
       "      <td>description</td>\n",
       "      <td>rooms</td>\n",
       "      <td>float</td>\n",
       "    </tr>\n",
       "  </tbody>\n",
       "</table>\n",
       "</div>"
      ],
      "text/plain": [
       "                                        lookup_regex extract_regex  \\\n",
       "0  \\d{1,2} {1,3}amb|\\d{1,2} {1,3}AMB*|\\d{1,2} {1,...       \\d{1,2}   \n",
       "1  \\d{1,2} {1,3}amb|\\d{1,2} {1,3}AMB*|\\d{1,2} {1,...       \\d{1,2}   \n",
       "\n",
       "  column_to_lookup column_to_complete value_type  \n",
       "0            title              rooms      float  \n",
       "1      description              rooms      float  "
      ]
     },
     "execution_count": 456,
     "metadata": {},
     "output_type": "execute_result"
    }
   ],
   "source": [
    "diccionario"
   ]
  },
  {
   "cell_type": "markdown",
   "metadata": {},
   "source": [
    "Defino la función que procesa el dataframe iterando en base al diccionaro:"
   ]
  },
  {
   "cell_type": "code",
   "execution_count": 454,
   "metadata": {},
   "outputs": [],
   "source": [
    "def df_parser(data,parse_dictionary):\n",
    "   for pattern_row_index, pattern in parse_dictionary.iterrows():\n",
    "    #print (\"Looking for regular expression: '\" + pattern[\"lookup_re\"] + \"' in column: '\" + pattern[\"column_to_lookup\"] + \"', extracting number with regEx: '\" + pattern[\"extract_re\"]+\"' and assigning value to column: '\" + pattern[\"column_to_complete\"] + \"'\")\n",
    "    for data_row_index, row in data.loc[data[pattern[\"column_to_complete\"]].isnull(),:].iterrows():\n",
    "    #for data_row_index, row in data.iterrows():\n",
    "        #print(data.loc[data_row_index,pattern[\"column_to_complete\"]])\n",
    "        if type(data.loc[data_row_index,pattern[\"column_to_lookup\"]]) is str and data.loc[data_row_index,pattern[\"column_to_lookup\"]] != '':\n",
    "            #print('Missing data here ...')\n",
    "            matches = re.search(pattern[\"lookup_regex\"], data.loc[data_row_index,pattern[\"column_to_lookup\"]])\n",
    "            if matches:\n",
    "                #print(matches.group(0)) #Imprime el valor encontrado dentro del campo que se está interpretando\n",
    "                #print(data.loc[data_row_index,pattern[\"column_to_complete\"]]) #Imprime el valor encontrado del campo que se está intentando llenar\n",
    "                #print(re.search(pattern[\"extract_regex\"], matches.group(0)).group(0)) #Imprime el string que va a ser extraído para convertir a número\n",
    "                if pattern[\"value_type\"] == 'float':\n",
    "                    number = float( re.search(pattern[\"extract_regex\"], matches.group(0)).group(0) )\n",
    "                else:\n",
    "                    number = int( re.search(pattern[\"extract_regex\"], matches.group(0)).group(0) )\n",
    "                data.loc[data_row_index,pattern[\"column_to_complete\"]] = number\n",
    "                #print('Found match: ')\n",
    "                #print(number)\n",
    "                #print(data.loc[data_row_index,pattern[\"column_to_complete\"]])\n",
    "   return"
   ]
  },
  {
   "cell_type": "markdown",
   "metadata": {},
   "source": [
    "### Corro la función para parsear la información"
   ]
  },
  {
   "cell_type": "code",
   "execution_count": 455,
   "metadata": {},
   "outputs": [],
   "source": [
    "df_parser(df,diccionario)"
   ]
  },
  {
   "cell_type": "code",
   "execution_count": 451,
   "metadata": {},
   "outputs": [
    {
     "name": "stdout",
     "output_type": "stream",
     "text": [
      "<class 'pandas.core.frame.DataFrame'>\n",
      "RangeIndex: 121220 entries, 0 to 121219\n",
      "Data columns (total 26 columns):\n",
      "Unnamed: 0                    121220 non-null int64\n",
      "operation                     121220 non-null object\n",
      "property_type                 121220 non-null object\n",
      "place_name                    121197 non-null object\n",
      "place_with_parent_names       121220 non-null object\n",
      "country_name                  121220 non-null object\n",
      "state_name                    121220 non-null object\n",
      "geonames_id                   102503 non-null float64\n",
      "lat-lon                       69670 non-null object\n",
      "lat                           69670 non-null float64\n",
      "lon                           69670 non-null float64\n",
      "price                         100810 non-null float64\n",
      "currency                      100809 non-null object\n",
      "price_aprox_local_currency    100810 non-null float64\n",
      "price_aprox_usd               100810 non-null float64\n",
      "surface_total_in_m2           81892 non-null float64\n",
      "surface_covered_in_m2         101313 non-null float64\n",
      "price_usd_per_m2              68617 non-null float64\n",
      "price_per_m2                  87658 non-null float64\n",
      "floor                         7899 non-null float64\n",
      "rooms                         69080 non-null float64\n",
      "expenses                      14262 non-null float64\n",
      "properati_url                 121220 non-null object\n",
      "description                   121218 non-null object\n",
      "title                         121220 non-null object\n",
      "image_thumbnail               118108 non-null object\n",
      "dtypes: float64(13), int64(1), object(12)\n",
      "memory usage: 24.0+ MB\n"
     ]
    }
   ],
   "source": [
    "df.info()"
   ]
  },
  {
   "cell_type": "markdown",
   "metadata": {},
   "source": [
    "El campo rooms antes tenía 47390 entradas válidas. Ahora vemos que tiene 69080 entradas válidas"
   ]
  },
  {
   "cell_type": "code",
   "execution_count": null,
   "metadata": {},
   "outputs": [],
   "source": []
  }
 ],
 "metadata": {
  "kernelspec": {
   "display_name": "Python 2",
   "language": "python",
   "name": "python2"
  },
  "language_info": {
   "codemirror_mode": {
    "name": "ipython",
    "version": 2
   },
   "file_extension": ".py",
   "mimetype": "text/x-python",
   "name": "python",
   "nbconvert_exporter": "python",
   "pygments_lexer": "ipython2",
   "version": "2.7.15"
  }
 },
 "nbformat": 4,
 "nbformat_minor": 2
}
